{
 "cells": [
  {
   "cell_type": "code",
   "execution_count": 1,
   "metadata": {},
   "outputs": [
    {
     "name": "stdout",
     "output_type": "stream",
     "text": [
      "Hello, python world\n"
     ]
    }
   ],
   "source": [
    "#part 1\n",
    "\n",
    "print(\"Hello, python world\")"
   ]
  },
  {
   "cell_type": "code",
   "execution_count": 2,
   "metadata": {},
   "outputs": [
    {
     "name": "stdout",
     "output_type": "stream",
     "text": [
      "irttehc ihskas\n"
     ]
    }
   ],
   "source": [
    "#part 2\n",
    "\n",
    "# .strip() function removes whitespace from front and back of string\n",
    "\n",
    "firstName=input(\"first name : \").strip()\n",
    "LastName=input(\"Last name : \").strip()\n",
    "\n",
    "#[::-1] is used to reverse a string \n",
    "\n",
    "fullName=LastName[::-1]+' '+firstName[::-1]\n",
    "\n",
    "print(fullName)"
   ]
  },
  {
   "cell_type": "code",
   "execution_count": 3,
   "metadata": {},
   "outputs": [
    {
     "name": "stdout",
     "output_type": "stream",
     "text": [
      "2\n"
     ]
    }
   ],
   "source": [
    "# we will take numeric value of float datatype and convert it into int type\n",
    "# int type doesn't contain decimal value while float does\n",
    "\n",
    "num=float(input(\"enter number\"))\n",
    "num=int(num)\n",
    "print(num)"
   ]
  },
  {
   "cell_type": "code",
   "execution_count": 5,
   "metadata": {},
   "outputs": [
    {
     "name": "stdout",
     "output_type": "stream",
     "text": [
      "39.099999999999994\n"
     ]
    }
   ],
   "source": [
    "\n",
    "len=float(input(\"enter length : \"))\n",
    "wid=float(input(\"enter wid : \"))\n",
    "area=len*wid\n",
    "print(area)"
   ]
  },
  {
   "cell_type": "code",
   "execution_count": 7,
   "metadata": {},
   "outputs": [
    {
     "name": "stdout",
     "output_type": "stream",
     "text": [
      "35.70\n"
     ]
    }
   ],
   "source": [
    "len=float(input(\"enter length : \"))\n",
    "wid=float(input(\"enter wid : \"))\n",
    "area=len*wid\n",
    "print(format(area,\".2f\"))"
   ]
  },
  {
   "cell_type": "code",
   "execution_count": 8,
   "metadata": {},
   "outputs": [
    {
     "name": "stdout",
     "output_type": "stream",
     "text": [
      "avg of three number is 86\n"
     ]
    }
   ],
   "source": [
    "fir=int(input(\"first no. : \"))\n",
    "sec=int(input(\"second no. : \"))\n",
    "thd=int(input(\"third no. : \"))\n",
    "\n",
    "avg=(fir+sec+thd)/3\n",
    "\n",
    "print(\"avg of three number is %d\" %avg)"
   ]
  },
  {
   "cell_type": "code",
   "execution_count": 11,
   "metadata": {},
   "outputs": [
    {
     "name": "stdout",
     "output_type": "stream",
     "text": [
      "positive\n",
      "negative\n",
      "program end\n"
     ]
    }
   ],
   "source": [
    "#part 3\n",
    "\n",
    "\n",
    "while True:\n",
    "\n",
    "    num=int(input(\"enter number : \"))\n",
    "\n",
    "    if(num>0):print(\"positive\")\n",
    "    elif(num<0):print(\"negative\")\n",
    "    else :print(\"zero\")\n",
    "\n",
    "    ask=int(input(\"enter 1 for yes and 2 for no :\"))\n",
    "    if(ask==2):break\n",
    "    else:continue\n",
    "\n",
    "print(\"program end\")"
   ]
  },
  {
   "cell_type": "code",
   "execution_count": 12,
   "metadata": {},
   "outputs": [
    {
     "name": "stdout",
     "output_type": "stream",
     "text": [
      "one is even and one is odd\n"
     ]
    }
   ],
   "source": [
    "num1=int(input(\"enter first number\"))\n",
    "num2=int(input(\"enter second number\"))\n",
    "\n",
    "if(num1%2==0 & num2%2==0):print(\"both are even\")\n",
    "elif(num1%2==1 & num2%2==1):print(\"both are odd\")\n",
    "else:print(\"one is even and one is odd\")"
   ]
  },
  {
   "cell_type": "code",
   "execution_count": 18,
   "metadata": {},
   "outputs": [
    {
     "name": "stdout",
     "output_type": "stream",
     "text": [
      "binary : 100010\n",
      "octal : 42\n",
      "hexadecimal : 22\n"
     ]
    }
   ],
   "source": [
    "num=int(input(\"enter number \"))\n",
    "\n",
    "binary=0\n",
    "i=1\n",
    "x=num\n",
    "\n",
    "while num>0:\n",
    "    binary=binary+(num%2)*i\n",
    "    num=num//2\n",
    "    i=i*10\n",
    "\n",
    "octal=0\n",
    "num=x\n",
    "i=1\n",
    "\n",
    "while num>0:\n",
    "    octal=octal+(num%8)*i\n",
    "    num=num//8\n",
    "    i=i*10\n",
    "\n",
    "hexa=\"\"\n",
    "digits =\"0123456789abcdef\"\n",
    "num=x\n",
    "\n",
    "while num>0:\n",
    "    hexa=digits[num%16]+hexa\n",
    "    num=num//16\n",
    "\n",
    "\n",
    "print(\"binary :\",binary)\n",
    "print(\"octal :\",octal)\n",
    "print(\"hexadecimal :\",hexa)\n"
   ]
  }
 ],
 "metadata": {
  "kernelspec": {
   "display_name": "Python 3",
   "language": "python",
   "name": "python3"
  },
  "language_info": {
   "codemirror_mode": {
    "name": "ipython",
    "version": 3
   },
   "file_extension": ".py",
   "mimetype": "text/x-python",
   "name": "python",
   "nbconvert_exporter": "python",
   "pygments_lexer": "ipython3",
   "version": "3.12.2"
  }
 },
 "nbformat": 4,
 "nbformat_minor": 2
}
